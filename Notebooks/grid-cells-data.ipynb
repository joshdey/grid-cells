{
 "cells": [
  {
   "cell_type": "code",
   "execution_count": 1,
   "metadata": {},
   "outputs": [
    {
     "data": {
      "text/plain": [
       "'/Users/joshdey/Desktop/FatBrain/Mini-Project/grid-cells'"
      ]
     },
     "execution_count": 1,
     "metadata": {},
     "output_type": "execute_result"
    }
   ],
   "source": [
    "import os\n",
    "os.getcwd()"
   ]
  },
  {
   "cell_type": "code",
   "execution_count": 2,
   "metadata": {},
   "outputs": [],
   "source": [
    "import wget"
   ]
  },
  {
   "cell_type": "code",
   "execution_count": 3,
   "metadata": {},
   "outputs": [],
   "source": [
    "for i in range(0,100):\n",
    "    if i < 10:\n",
    "        url = 'https://storage.googleapis.com/grid-cells-datasets/square_room_100steps_2.2m_1000000/000%d-of-0099.tfrecord'%(i)\n",
    "    else:\n",
    "        url = 'https://storage.googleapis.com/grid-cells-datasets/square_room_100steps_2.2m_1000000/00%d-of-0099.tfrecord'%(i)\n",
    "    wget.download(url, '/Users/joshdey/Desktop/FatBrain/Mini-Project/grid-cells/data')"
   ]
  },
  {
   "cell_type": "code",
   "execution_count": null,
   "metadata": {},
   "outputs": [],
   "source": []
  }
 ],
 "metadata": {
  "kernelspec": {
   "display_name": "gridcells",
   "language": "python",
   "name": "gridcells"
  },
  "language_info": {
   "codemirror_mode": {
    "name": "ipython",
    "version": 2
   },
   "file_extension": ".py",
   "mimetype": "text/x-python",
   "name": "python",
   "nbconvert_exporter": "python",
   "pygments_lexer": "ipython2",
   "version": "2.7.18"
  }
 },
 "nbformat": 4,
 "nbformat_minor": 2
}
